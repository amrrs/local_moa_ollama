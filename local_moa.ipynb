{
 "cells": [
  {
   "cell_type": "markdown",
   "metadata": {},
   "source": [
    "# Mixture of Agents with Llama Index"
   ]
  },
  {
   "cell_type": "code",
   "execution_count": null,
   "metadata": {},
   "outputs": [],
   "source": [
    "!ollama pull llama3"
   ]
  },
  {
   "cell_type": "markdown",
   "metadata": {},
   "source": [
    "# Sample Ollama Model"
   ]
  },
  {
   "cell_type": "code",
   "execution_count": 3,
   "metadata": {},
   "outputs": [
    {
     "name": "stdout",
     "output_type": "stream",
     "text": [
      "Note: you may need to restart the kernel to use updated packages.\n",
      "zsh:1: command not found: python\n",
      "zsh:source:1: no such file or directory: venv/bin/activate\n",
      "Defaulting to user installation because normal site-packages is not writeable\n",
      "Collecting llama-index\n",
      "  Using cached llama_index-0.10.52-py3-none-any.whl.metadata (11 kB)\n",
      "Collecting llama-index-llms-ollama\n",
      "  Using cached llama_index_llms_ollama-0.1.5-py3-none-any.whl.metadata (585 bytes)\n",
      "Collecting llama-index-agent-openai<0.3.0,>=0.1.4 (from llama-index)\n",
      "  Using cached llama_index_agent_openai-0.2.7-py3-none-any.whl.metadata (678 bytes)\n",
      "Collecting llama-index-cli<0.2.0,>=0.1.2 (from llama-index)\n",
      "  Using cached llama_index_cli-0.1.12-py3-none-any.whl.metadata (1.5 kB)\n",
      "Collecting llama-index-core==0.10.52.post1 (from llama-index)\n",
      "  Using cached llama_index_core-0.10.52.post1-py3-none-any.whl.metadata (2.5 kB)\n",
      "Collecting llama-index-embeddings-openai<0.2.0,>=0.1.5 (from llama-index)\n",
      "  Using cached llama_index_embeddings_openai-0.1.10-py3-none-any.whl.metadata (604 bytes)\n",
      "Collecting llama-index-indices-managed-llama-cloud>=0.2.0 (from llama-index)\n",
      "  Using cached llama_index_indices_managed_llama_cloud-0.2.3-py3-none-any.whl.metadata (3.8 kB)\n",
      "Collecting llama-index-legacy<0.10.0,>=0.9.48 (from llama-index)\n",
      "  Using cached llama_index_legacy-0.9.48-py3-none-any.whl.metadata (8.5 kB)\n",
      "Collecting llama-index-llms-openai<0.2.0,>=0.1.13 (from llama-index)\n",
      "  Using cached llama_index_llms_openai-0.1.25-py3-none-any.whl.metadata (610 bytes)\n",
      "Collecting llama-index-multi-modal-llms-openai<0.2.0,>=0.1.3 (from llama-index)\n",
      "  Using cached llama_index_multi_modal_llms_openai-0.1.7-py3-none-any.whl.metadata (728 bytes)\n",
      "Collecting llama-index-program-openai<0.2.0,>=0.1.3 (from llama-index)\n",
      "  Using cached llama_index_program_openai-0.1.6-py3-none-any.whl.metadata (715 bytes)\n",
      "Collecting llama-index-question-gen-openai<0.2.0,>=0.1.2 (from llama-index)\n",
      "  Using cached llama_index_question_gen_openai-0.1.3-py3-none-any.whl.metadata (785 bytes)\n",
      "Collecting llama-index-readers-file<0.2.0,>=0.1.4 (from llama-index)\n",
      "  Using cached llama_index_readers_file-0.1.27-py3-none-any.whl.metadata (5.4 kB)\n",
      "Collecting llama-index-readers-llama-parse>=0.1.2 (from llama-index)\n",
      "  Using cached llama_index_readers_llama_parse-0.1.6-py3-none-any.whl.metadata (3.6 kB)\n",
      "Requirement already satisfied: PyYAML>=6.0.1 in /Users/1littlecoder/Library/Python/3.9/lib/python/site-packages (from llama-index-core==0.10.52.post1->llama-index) (6.0.1)\n",
      "Requirement already satisfied: SQLAlchemy>=1.4.49 in /Users/1littlecoder/Library/Python/3.9/lib/python/site-packages (from SQLAlchemy[asyncio]>=1.4.49->llama-index-core==0.10.52.post1->llama-index) (2.0.25)\n",
      "Requirement already satisfied: aiohttp<4.0.0,>=3.8.6 in /Users/1littlecoder/Library/Python/3.9/lib/python/site-packages (from llama-index-core==0.10.52.post1->llama-index) (3.9.3)\n",
      "Requirement already satisfied: dataclasses-json in /Users/1littlecoder/Library/Python/3.9/lib/python/site-packages (from llama-index-core==0.10.52.post1->llama-index) (0.6.4)\n",
      "Requirement already satisfied: deprecated>=1.2.9.3 in /Users/1littlecoder/Library/Python/3.9/lib/python/site-packages (from llama-index-core==0.10.52.post1->llama-index) (1.2.14)\n",
      "Requirement already satisfied: dirtyjson<2.0.0,>=1.0.8 in /Users/1littlecoder/Library/Python/3.9/lib/python/site-packages (from llama-index-core==0.10.52.post1->llama-index) (1.0.8)\n",
      "Requirement already satisfied: fsspec>=2023.5.0 in /Users/1littlecoder/Library/Python/3.9/lib/python/site-packages (from llama-index-core==0.10.52.post1->llama-index) (2023.12.2)\n",
      "Requirement already satisfied: httpx in /Users/1littlecoder/Library/Python/3.9/lib/python/site-packages (from llama-index-core==0.10.52.post1->llama-index) (0.25.2)\n",
      "Requirement already satisfied: llama-cloud<0.0.7,>=0.0.6 in /Users/1littlecoder/Library/Python/3.9/lib/python/site-packages (from llama-index-core==0.10.52.post1->llama-index) (0.0.6)\n",
      "Requirement already satisfied: nest-asyncio<2.0.0,>=1.5.8 in /Users/1littlecoder/Library/Python/3.9/lib/python/site-packages (from llama-index-core==0.10.52.post1->llama-index) (1.6.0)\n",
      "Requirement already satisfied: networkx>=3.0 in /Users/1littlecoder/Library/Python/3.9/lib/python/site-packages (from llama-index-core==0.10.52.post1->llama-index) (3.2.1)\n",
      "Requirement already satisfied: nltk<4.0.0,>=3.8.1 in /Users/1littlecoder/Library/Python/3.9/lib/python/site-packages (from llama-index-core==0.10.52.post1->llama-index) (3.8.1)\n",
      "Requirement already satisfied: numpy<2.0.0 in /Users/1littlecoder/Library/Python/3.9/lib/python/site-packages (from llama-index-core==0.10.52.post1->llama-index) (1.26.3)\n",
      "Requirement already satisfied: openai>=1.1.0 in /Users/1littlecoder/Library/Python/3.9/lib/python/site-packages (from llama-index-core==0.10.52.post1->llama-index) (1.27.0)\n",
      "Requirement already satisfied: pandas in /Users/1littlecoder/Library/Python/3.9/lib/python/site-packages (from llama-index-core==0.10.52.post1->llama-index) (2.0.3)\n",
      "Requirement already satisfied: pillow>=9.0.0 in /Users/1littlecoder/Library/Python/3.9/lib/python/site-packages (from llama-index-core==0.10.52.post1->llama-index) (9.5.0)\n",
      "Requirement already satisfied: requests>=2.31.0 in /Users/1littlecoder/Library/Python/3.9/lib/python/site-packages (from llama-index-core==0.10.52.post1->llama-index) (2.31.0)\n",
      "Requirement already satisfied: tenacity!=8.4.0,<9.0.0,>=8.2.0 in /Users/1littlecoder/Library/Python/3.9/lib/python/site-packages (from llama-index-core==0.10.52.post1->llama-index) (8.2.3)\n",
      "Requirement already satisfied: tiktoken>=0.3.3 in /Users/1littlecoder/Library/Python/3.9/lib/python/site-packages (from llama-index-core==0.10.52.post1->llama-index) (0.5.2)\n",
      "Requirement already satisfied: tqdm<5.0.0,>=4.66.1 in /Users/1littlecoder/Library/Python/3.9/lib/python/site-packages (from llama-index-core==0.10.52.post1->llama-index) (4.66.3)\n",
      "Requirement already satisfied: typing-extensions>=4.5.0 in /Users/1littlecoder/Library/Python/3.9/lib/python/site-packages (from llama-index-core==0.10.52.post1->llama-index) (4.9.0)\n",
      "Requirement already satisfied: typing-inspect>=0.8.0 in /Users/1littlecoder/Library/Python/3.9/lib/python/site-packages (from llama-index-core==0.10.52.post1->llama-index) (0.9.0)\n",
      "Requirement already satisfied: wrapt in /Users/1littlecoder/Library/Python/3.9/lib/python/site-packages (from llama-index-core==0.10.52.post1->llama-index) (1.16.0)\n",
      "Requirement already satisfied: beautifulsoup4<5.0.0,>=4.12.3 in /Users/1littlecoder/Library/Python/3.9/lib/python/site-packages (from llama-index-readers-file<0.2.0,>=0.1.4->llama-index) (4.12.3)\n",
      "Requirement already satisfied: pypdf<5.0.0,>=4.0.1 in /Users/1littlecoder/Library/Python/3.9/lib/python/site-packages (from llama-index-readers-file<0.2.0,>=0.1.4->llama-index) (4.0.2)\n",
      "Requirement already satisfied: striprtf<0.0.27,>=0.0.26 in /Users/1littlecoder/Library/Python/3.9/lib/python/site-packages (from llama-index-readers-file<0.2.0,>=0.1.4->llama-index) (0.0.26)\n",
      "Requirement already satisfied: llama-parse>=0.4.0 in /Users/1littlecoder/Library/Python/3.9/lib/python/site-packages (from llama-index-readers-llama-parse>=0.1.2->llama-index) (0.4.5)\n",
      "Requirement already satisfied: aiosignal>=1.1.2 in /Users/1littlecoder/Library/Python/3.9/lib/python/site-packages (from aiohttp<4.0.0,>=3.8.6->llama-index-core==0.10.52.post1->llama-index) (1.3.1)\n",
      "Requirement already satisfied: attrs>=17.3.0 in /Users/1littlecoder/Library/Python/3.9/lib/python/site-packages (from aiohttp<4.0.0,>=3.8.6->llama-index-core==0.10.52.post1->llama-index) (23.2.0)\n",
      "Requirement already satisfied: frozenlist>=1.1.1 in /Users/1littlecoder/Library/Python/3.9/lib/python/site-packages (from aiohttp<4.0.0,>=3.8.6->llama-index-core==0.10.52.post1->llama-index) (1.4.1)\n",
      "Requirement already satisfied: multidict<7.0,>=4.5 in /Users/1littlecoder/Library/Python/3.9/lib/python/site-packages (from aiohttp<4.0.0,>=3.8.6->llama-index-core==0.10.52.post1->llama-index) (6.0.5)\n",
      "Requirement already satisfied: yarl<2.0,>=1.0 in /Users/1littlecoder/Library/Python/3.9/lib/python/site-packages (from aiohttp<4.0.0,>=3.8.6->llama-index-core==0.10.52.post1->llama-index) (1.9.4)\n",
      "Requirement already satisfied: async-timeout<5.0,>=4.0 in /Users/1littlecoder/Library/Python/3.9/lib/python/site-packages (from aiohttp<4.0.0,>=3.8.6->llama-index-core==0.10.52.post1->llama-index) (4.0.3)\n",
      "Requirement already satisfied: soupsieve>1.2 in /Users/1littlecoder/Library/Python/3.9/lib/python/site-packages (from beautifulsoup4<5.0.0,>=4.12.3->llama-index-readers-file<0.2.0,>=0.1.4->llama-index) (2.5)\n",
      "Requirement already satisfied: pydantic>=1.10 in /Users/1littlecoder/Library/Python/3.9/lib/python/site-packages (from llama-cloud<0.0.7,>=0.0.6->llama-index-core==0.10.52.post1->llama-index) (2.6.2)\n",
      "Requirement already satisfied: anyio in /Users/1littlecoder/Library/Python/3.9/lib/python/site-packages (from httpx->llama-index-core==0.10.52.post1->llama-index) (4.2.0)\n",
      "Requirement already satisfied: certifi in /Users/1littlecoder/Library/Python/3.9/lib/python/site-packages (from httpx->llama-index-core==0.10.52.post1->llama-index) (2023.11.17)\n",
      "Requirement already satisfied: httpcore==1.* in /Users/1littlecoder/Library/Python/3.9/lib/python/site-packages (from httpx->llama-index-core==0.10.52.post1->llama-index) (1.0.2)\n",
      "Requirement already satisfied: idna in /Users/1littlecoder/Library/Python/3.9/lib/python/site-packages (from httpx->llama-index-core==0.10.52.post1->llama-index) (3.6)\n",
      "Requirement already satisfied: sniffio in /Users/1littlecoder/Library/Python/3.9/lib/python/site-packages (from httpx->llama-index-core==0.10.52.post1->llama-index) (1.3.0)\n",
      "Requirement already satisfied: h11<0.15,>=0.13 in /Users/1littlecoder/Library/Python/3.9/lib/python/site-packages (from httpcore==1.*->httpx->llama-index-core==0.10.52.post1->llama-index) (0.14.0)\n",
      "Requirement already satisfied: click in /Users/1littlecoder/Library/Python/3.9/lib/python/site-packages (from nltk<4.0.0,>=3.8.1->llama-index-core==0.10.52.post1->llama-index) (8.1.7)\n",
      "Requirement already satisfied: joblib in /Users/1littlecoder/Library/Python/3.9/lib/python/site-packages (from nltk<4.0.0,>=3.8.1->llama-index-core==0.10.52.post1->llama-index) (1.3.2)\n",
      "Requirement already satisfied: regex>=2021.8.3 in /Users/1littlecoder/Library/Python/3.9/lib/python/site-packages (from nltk<4.0.0,>=3.8.1->llama-index-core==0.10.52.post1->llama-index) (2023.12.25)\n",
      "Requirement already satisfied: distro<2,>=1.7.0 in /Users/1littlecoder/Library/Python/3.9/lib/python/site-packages (from openai>=1.1.0->llama-index-core==0.10.52.post1->llama-index) (1.9.0)\n",
      "Requirement already satisfied: charset-normalizer<4,>=2 in /Users/1littlecoder/Library/Python/3.9/lib/python/site-packages (from requests>=2.31.0->llama-index-core==0.10.52.post1->llama-index) (3.3.2)\n",
      "Requirement already satisfied: urllib3<3,>=1.21.1 in /Users/1littlecoder/Library/Python/3.9/lib/python/site-packages (from requests>=2.31.0->llama-index-core==0.10.52.post1->llama-index) (1.26.18)\n",
      "Requirement already satisfied: greenlet!=0.4.17 in /Users/1littlecoder/Library/Python/3.9/lib/python/site-packages (from SQLAlchemy[asyncio]>=1.4.49->llama-index-core==0.10.52.post1->llama-index) (3.0.3)\n",
      "Requirement already satisfied: mypy-extensions>=0.3.0 in /Users/1littlecoder/Library/Python/3.9/lib/python/site-packages (from typing-inspect>=0.8.0->llama-index-core==0.10.52.post1->llama-index) (1.0.0)\n",
      "Requirement already satisfied: marshmallow<4.0.0,>=3.18.0 in /Users/1littlecoder/Library/Python/3.9/lib/python/site-packages (from dataclasses-json->llama-index-core==0.10.52.post1->llama-index) (3.20.2)\n",
      "Requirement already satisfied: python-dateutil>=2.8.2 in /Users/1littlecoder/Library/Python/3.9/lib/python/site-packages (from pandas->llama-index-core==0.10.52.post1->llama-index) (2.8.2)\n",
      "Requirement already satisfied: pytz>=2020.1 in /Users/1littlecoder/Library/Python/3.9/lib/python/site-packages (from pandas->llama-index-core==0.10.52.post1->llama-index) (2024.1)\n",
      "Requirement already satisfied: tzdata>=2022.1 in /Users/1littlecoder/Library/Python/3.9/lib/python/site-packages (from pandas->llama-index-core==0.10.52.post1->llama-index) (2023.4)\n",
      "Requirement already satisfied: exceptiongroup>=1.0.2 in /Users/1littlecoder/Library/Python/3.9/lib/python/site-packages (from anyio->httpx->llama-index-core==0.10.52.post1->llama-index) (1.2.0)\n",
      "Requirement already satisfied: packaging>=17.0 in /Users/1littlecoder/Library/Python/3.9/lib/python/site-packages (from marshmallow<4.0.0,>=3.18.0->dataclasses-json->llama-index-core==0.10.52.post1->llama-index) (23.2)\n",
      "Requirement already satisfied: annotated-types>=0.4.0 in /Users/1littlecoder/Library/Python/3.9/lib/python/site-packages (from pydantic>=1.10->llama-cloud<0.0.7,>=0.0.6->llama-index-core==0.10.52.post1->llama-index) (0.6.0)\n",
      "Requirement already satisfied: pydantic-core==2.16.3 in /Users/1littlecoder/Library/Python/3.9/lib/python/site-packages (from pydantic>=1.10->llama-cloud<0.0.7,>=0.0.6->llama-index-core==0.10.52.post1->llama-index) (2.16.3)\n",
      "Requirement already satisfied: six>=1.5 in /Users/1littlecoder/Library/Python/3.9/lib/python/site-packages (from python-dateutil>=2.8.2->pandas->llama-index-core==0.10.52.post1->llama-index) (1.16.0)\n",
      "Using cached llama_index-0.10.52-py3-none-any.whl (6.8 kB)\n",
      "Using cached llama_index_core-0.10.52.post1-py3-none-any.whl (15.4 MB)\n",
      "Using cached llama_index_llms_ollama-0.1.5-py3-none-any.whl (3.6 kB)\n",
      "Using cached llama_index_agent_openai-0.2.7-py3-none-any.whl (12 kB)\n",
      "Using cached llama_index_cli-0.1.12-py3-none-any.whl (26 kB)\n",
      "Using cached llama_index_embeddings_openai-0.1.10-py3-none-any.whl (6.2 kB)\n",
      "Using cached llama_index_indices_managed_llama_cloud-0.2.3-py3-none-any.whl (9.2 kB)\n",
      "Using cached llama_index_legacy-0.9.48-py3-none-any.whl (2.0 MB)\n",
      "Using cached llama_index_llms_openai-0.1.25-py3-none-any.whl (11 kB)\n",
      "Using cached llama_index_multi_modal_llms_openai-0.1.7-py3-none-any.whl (5.9 kB)\n",
      "Using cached llama_index_program_openai-0.1.6-py3-none-any.whl (5.2 kB)\n",
      "Using cached llama_index_question_gen_openai-0.1.3-py3-none-any.whl (2.9 kB)\n",
      "Using cached llama_index_readers_file-0.1.27-py3-none-any.whl (37 kB)\n",
      "Using cached llama_index_readers_llama_parse-0.1.6-py3-none-any.whl (2.5 kB)\n",
      "Installing collected packages: llama-index-legacy, llama-index-core, llama-index-readers-file, llama-index-llms-openai, llama-index-llms-ollama, llama-index-indices-managed-llama-cloud, llama-index-embeddings-openai, llama-index-readers-llama-parse, llama-index-multi-modal-llms-openai, llama-index-cli, llama-index-agent-openai, llama-index-program-openai, llama-index-question-gen-openai, llama-index\n",
      "Successfully installed llama-index-0.10.52 llama-index-agent-openai-0.2.7 llama-index-cli-0.1.12 llama-index-core-0.10.52.post1 llama-index-embeddings-openai-0.1.10 llama-index-indices-managed-llama-cloud-0.2.3 llama-index-legacy-0.9.48 llama-index-llms-ollama-0.1.5 llama-index-llms-openai-0.1.25 llama-index-multi-modal-llms-openai-0.1.7 llama-index-program-openai-0.1.6 llama-index-question-gen-openai-0.1.3 llama-index-readers-file-0.1.27 llama-index-readers-llama-parse-0.1.6\n",
      "\n",
      "\u001b[1m[\u001b[0m\u001b[34;49mnotice\u001b[0m\u001b[1;39;49m]\u001b[0m\u001b[39;49m A new release of pip is available: \u001b[0m\u001b[31;49m24.0\u001b[0m\u001b[39;49m -> \u001b[0m\u001b[32;49m24.1.1\u001b[0m\n",
      "\u001b[1m[\u001b[0m\u001b[34;49mnotice\u001b[0m\u001b[1;39;49m]\u001b[0m\u001b[39;49m To update, run: \u001b[0m\u001b[32;49m/Library/Developer/CommandLineTools/usr/bin/python3 -m pip install --upgrade pip\u001b[0m\n"
     ]
    }
   ],
   "source": [
    "%pip freeze | grep llama-index | xargs pip uninstall -y\n",
    "!python -m venv venv\n",
    "!source venv/bin/activate \n",
    "!pip install llama-index llama-index-llms-ollama "
   ]
  },
  {
   "cell_type": "code",
   "execution_count": 4,
   "metadata": {},
   "outputs": [],
   "source": [
    "from llama_index.llms.ollama import Ollama"
   ]
  },
  {
   "cell_type": "code",
   "execution_count": 5,
   "metadata": {},
   "outputs": [],
   "source": [
    "llm = Ollama(model=\"llama3\", request_timeout=120.0)"
   ]
  },
  {
   "cell_type": "code",
   "execution_count": 23,
   "metadata": {},
   "outputs": [
    {
     "name": "stdout",
     "output_type": "stream",
     "text": [
      "INFO:httpx:HTTP Request: POST http://localhost:11434/api/generate \"HTTP/1.1 200 OK\"\n",
      "HTTP Request: POST http://localhost:11434/api/generate \"HTTP/1.1 200 OK\"\n"
     ]
    }
   ],
   "source": [
    "resp = llm.complete(\"2+2?\")"
   ]
  },
  {
   "cell_type": "code",
   "execution_count": 24,
   "metadata": {},
   "outputs": [
    {
     "name": "stdout",
     "output_type": "stream",
     "text": [
      "The answer to 2+2 is... 4!\n"
     ]
    }
   ],
   "source": [
    "print(resp)"
   ]
  },
  {
   "cell_type": "markdown",
   "metadata": {},
   "source": [
    "# Checking List of Local Models"
   ]
  },
  {
   "cell_type": "code",
   "execution_count": 8,
   "metadata": {},
   "outputs": [
    {
     "name": "stdout",
     "output_type": "stream",
     "text": [
      "NAME                               \tID          \tSIZE  \tMODIFIED     \n",
      "knoopx/hermes-2-pro-mistral:7b-q8_0\tdb41f4a9e570\t7.7 GB\t3 months ago\t\n",
      "all-minilm:latest                  \t1b226e2802db\t45 MB \t3 months ago\t\n",
      "all-minilm:v2                      \t1b226e2802db\t45 MB \t3 months ago\t\n",
      "deepseek-coder:6.7b                \tce298d984115\t3.8 GB\t4 months ago\t\n",
      "deepseek-coder:latest              \t3ddd2d3fc8d2\t776 MB\t4 months ago\t\n",
      "llama3:latest                      \ta6990ed6be41\t4.7 GB\t2 months ago\t\n",
      "llava:latest                       \t8dd30f6b0cb1\t4.7 GB\t5 months ago\t\n",
      "mistral:latest                     \t61e88e884507\t4.1 GB\t8 weeks ago \t\n",
      "mxbai-embed-large:latest           \t468836162de7\t669 MB\t2 months ago\t\n",
      "nomic-embed-text:latest            \t0a109f422b47\t274 MB\t8 weeks ago \t\n",
      "stablelm-zephyr:latest             \t0a108dbd846e\t1.6 GB\t4 months ago\t\n"
     ]
    }
   ],
   "source": [
    "!ollama list"
   ]
  },
  {
   "cell_type": "markdown",
   "metadata": {},
   "source": [
    "# Install MoA Pack"
   ]
  },
  {
   "cell_type": "code",
   "execution_count": 13,
   "metadata": {},
   "outputs": [
    {
     "name": "stdout",
     "output_type": "stream",
     "text": [
      "Defaulting to user installation because normal site-packages is not writeable\n",
      "Collecting llama-index-packs-mixture-of-agents\n",
      "  Using cached llama_index_packs_mixture_of_agents-0.1.1-py3-none-any.whl.metadata (3.7 kB)\n",
      "Requirement already satisfied: llama-index-core<0.11.0,>=0.10.1 in /Users/1littlecoder/Library/Python/3.9/lib/python/site-packages (from llama-index-packs-mixture-of-agents) (0.10.52.post1)\n",
      "Requirement already satisfied: PyYAML>=6.0.1 in /Users/1littlecoder/Library/Python/3.9/lib/python/site-packages (from llama-index-core<0.11.0,>=0.10.1->llama-index-packs-mixture-of-agents) (6.0.1)\n",
      "Requirement already satisfied: SQLAlchemy>=1.4.49 in /Users/1littlecoder/Library/Python/3.9/lib/python/site-packages (from SQLAlchemy[asyncio]>=1.4.49->llama-index-core<0.11.0,>=0.10.1->llama-index-packs-mixture-of-agents) (2.0.25)\n",
      "Requirement already satisfied: aiohttp<4.0.0,>=3.8.6 in /Users/1littlecoder/Library/Python/3.9/lib/python/site-packages (from llama-index-core<0.11.0,>=0.10.1->llama-index-packs-mixture-of-agents) (3.9.3)\n",
      "Requirement already satisfied: dataclasses-json in /Users/1littlecoder/Library/Python/3.9/lib/python/site-packages (from llama-index-core<0.11.0,>=0.10.1->llama-index-packs-mixture-of-agents) (0.6.4)\n",
      "Requirement already satisfied: deprecated>=1.2.9.3 in /Users/1littlecoder/Library/Python/3.9/lib/python/site-packages (from llama-index-core<0.11.0,>=0.10.1->llama-index-packs-mixture-of-agents) (1.2.14)\n",
      "Requirement already satisfied: dirtyjson<2.0.0,>=1.0.8 in /Users/1littlecoder/Library/Python/3.9/lib/python/site-packages (from llama-index-core<0.11.0,>=0.10.1->llama-index-packs-mixture-of-agents) (1.0.8)\n",
      "Requirement already satisfied: fsspec>=2023.5.0 in /Users/1littlecoder/Library/Python/3.9/lib/python/site-packages (from llama-index-core<0.11.0,>=0.10.1->llama-index-packs-mixture-of-agents) (2023.12.2)\n",
      "Requirement already satisfied: httpx in /Users/1littlecoder/Library/Python/3.9/lib/python/site-packages (from llama-index-core<0.11.0,>=0.10.1->llama-index-packs-mixture-of-agents) (0.25.2)\n",
      "Requirement already satisfied: llama-cloud<0.0.7,>=0.0.6 in /Users/1littlecoder/Library/Python/3.9/lib/python/site-packages (from llama-index-core<0.11.0,>=0.10.1->llama-index-packs-mixture-of-agents) (0.0.6)\n",
      "Requirement already satisfied: nest-asyncio<2.0.0,>=1.5.8 in /Users/1littlecoder/Library/Python/3.9/lib/python/site-packages (from llama-index-core<0.11.0,>=0.10.1->llama-index-packs-mixture-of-agents) (1.6.0)\n",
      "Requirement already satisfied: networkx>=3.0 in /Users/1littlecoder/Library/Python/3.9/lib/python/site-packages (from llama-index-core<0.11.0,>=0.10.1->llama-index-packs-mixture-of-agents) (3.2.1)\n",
      "Requirement already satisfied: nltk<4.0.0,>=3.8.1 in /Users/1littlecoder/Library/Python/3.9/lib/python/site-packages (from llama-index-core<0.11.0,>=0.10.1->llama-index-packs-mixture-of-agents) (3.8.1)\n",
      "Requirement already satisfied: numpy<2.0.0 in /Users/1littlecoder/Library/Python/3.9/lib/python/site-packages (from llama-index-core<0.11.0,>=0.10.1->llama-index-packs-mixture-of-agents) (1.26.3)\n",
      "Requirement already satisfied: openai>=1.1.0 in /Users/1littlecoder/Library/Python/3.9/lib/python/site-packages (from llama-index-core<0.11.0,>=0.10.1->llama-index-packs-mixture-of-agents) (1.27.0)\n",
      "Requirement already satisfied: pandas in /Users/1littlecoder/Library/Python/3.9/lib/python/site-packages (from llama-index-core<0.11.0,>=0.10.1->llama-index-packs-mixture-of-agents) (2.0.3)\n",
      "Requirement already satisfied: pillow>=9.0.0 in /Users/1littlecoder/Library/Python/3.9/lib/python/site-packages (from llama-index-core<0.11.0,>=0.10.1->llama-index-packs-mixture-of-agents) (9.5.0)\n",
      "Requirement already satisfied: requests>=2.31.0 in /Users/1littlecoder/Library/Python/3.9/lib/python/site-packages (from llama-index-core<0.11.0,>=0.10.1->llama-index-packs-mixture-of-agents) (2.31.0)\n",
      "Requirement already satisfied: tenacity!=8.4.0,<9.0.0,>=8.2.0 in /Users/1littlecoder/Library/Python/3.9/lib/python/site-packages (from llama-index-core<0.11.0,>=0.10.1->llama-index-packs-mixture-of-agents) (8.2.3)\n",
      "Requirement already satisfied: tiktoken>=0.3.3 in /Users/1littlecoder/Library/Python/3.9/lib/python/site-packages (from llama-index-core<0.11.0,>=0.10.1->llama-index-packs-mixture-of-agents) (0.5.2)\n",
      "Requirement already satisfied: tqdm<5.0.0,>=4.66.1 in /Users/1littlecoder/Library/Python/3.9/lib/python/site-packages (from llama-index-core<0.11.0,>=0.10.1->llama-index-packs-mixture-of-agents) (4.66.3)\n",
      "Requirement already satisfied: typing-extensions>=4.5.0 in /Users/1littlecoder/Library/Python/3.9/lib/python/site-packages (from llama-index-core<0.11.0,>=0.10.1->llama-index-packs-mixture-of-agents) (4.9.0)\n",
      "Requirement already satisfied: typing-inspect>=0.8.0 in /Users/1littlecoder/Library/Python/3.9/lib/python/site-packages (from llama-index-core<0.11.0,>=0.10.1->llama-index-packs-mixture-of-agents) (0.9.0)\n",
      "Requirement already satisfied: wrapt in /Users/1littlecoder/Library/Python/3.9/lib/python/site-packages (from llama-index-core<0.11.0,>=0.10.1->llama-index-packs-mixture-of-agents) (1.16.0)\n",
      "Requirement already satisfied: aiosignal>=1.1.2 in /Users/1littlecoder/Library/Python/3.9/lib/python/site-packages (from aiohttp<4.0.0,>=3.8.6->llama-index-core<0.11.0,>=0.10.1->llama-index-packs-mixture-of-agents) (1.3.1)\n",
      "Requirement already satisfied: attrs>=17.3.0 in /Users/1littlecoder/Library/Python/3.9/lib/python/site-packages (from aiohttp<4.0.0,>=3.8.6->llama-index-core<0.11.0,>=0.10.1->llama-index-packs-mixture-of-agents) (23.2.0)\n",
      "Requirement already satisfied: frozenlist>=1.1.1 in /Users/1littlecoder/Library/Python/3.9/lib/python/site-packages (from aiohttp<4.0.0,>=3.8.6->llama-index-core<0.11.0,>=0.10.1->llama-index-packs-mixture-of-agents) (1.4.1)\n",
      "Requirement already satisfied: multidict<7.0,>=4.5 in /Users/1littlecoder/Library/Python/3.9/lib/python/site-packages (from aiohttp<4.0.0,>=3.8.6->llama-index-core<0.11.0,>=0.10.1->llama-index-packs-mixture-of-agents) (6.0.5)\n",
      "Requirement already satisfied: yarl<2.0,>=1.0 in /Users/1littlecoder/Library/Python/3.9/lib/python/site-packages (from aiohttp<4.0.0,>=3.8.6->llama-index-core<0.11.0,>=0.10.1->llama-index-packs-mixture-of-agents) (1.9.4)\n",
      "Requirement already satisfied: async-timeout<5.0,>=4.0 in /Users/1littlecoder/Library/Python/3.9/lib/python/site-packages (from aiohttp<4.0.0,>=3.8.6->llama-index-core<0.11.0,>=0.10.1->llama-index-packs-mixture-of-agents) (4.0.3)\n",
      "Requirement already satisfied: pydantic>=1.10 in /Users/1littlecoder/Library/Python/3.9/lib/python/site-packages (from llama-cloud<0.0.7,>=0.0.6->llama-index-core<0.11.0,>=0.10.1->llama-index-packs-mixture-of-agents) (2.6.2)\n",
      "Requirement already satisfied: anyio in /Users/1littlecoder/Library/Python/3.9/lib/python/site-packages (from httpx->llama-index-core<0.11.0,>=0.10.1->llama-index-packs-mixture-of-agents) (4.2.0)\n",
      "Requirement already satisfied: certifi in /Users/1littlecoder/Library/Python/3.9/lib/python/site-packages (from httpx->llama-index-core<0.11.0,>=0.10.1->llama-index-packs-mixture-of-agents) (2023.11.17)\n",
      "Requirement already satisfied: httpcore==1.* in /Users/1littlecoder/Library/Python/3.9/lib/python/site-packages (from httpx->llama-index-core<0.11.0,>=0.10.1->llama-index-packs-mixture-of-agents) (1.0.2)\n",
      "Requirement already satisfied: idna in /Users/1littlecoder/Library/Python/3.9/lib/python/site-packages (from httpx->llama-index-core<0.11.0,>=0.10.1->llama-index-packs-mixture-of-agents) (3.6)\n",
      "Requirement already satisfied: sniffio in /Users/1littlecoder/Library/Python/3.9/lib/python/site-packages (from httpx->llama-index-core<0.11.0,>=0.10.1->llama-index-packs-mixture-of-agents) (1.3.0)\n",
      "Requirement already satisfied: h11<0.15,>=0.13 in /Users/1littlecoder/Library/Python/3.9/lib/python/site-packages (from httpcore==1.*->httpx->llama-index-core<0.11.0,>=0.10.1->llama-index-packs-mixture-of-agents) (0.14.0)\n",
      "Requirement already satisfied: click in /Users/1littlecoder/Library/Python/3.9/lib/python/site-packages (from nltk<4.0.0,>=3.8.1->llama-index-core<0.11.0,>=0.10.1->llama-index-packs-mixture-of-agents) (8.1.7)\n",
      "Requirement already satisfied: joblib in /Users/1littlecoder/Library/Python/3.9/lib/python/site-packages (from nltk<4.0.0,>=3.8.1->llama-index-core<0.11.0,>=0.10.1->llama-index-packs-mixture-of-agents) (1.3.2)\n",
      "Requirement already satisfied: regex>=2021.8.3 in /Users/1littlecoder/Library/Python/3.9/lib/python/site-packages (from nltk<4.0.0,>=3.8.1->llama-index-core<0.11.0,>=0.10.1->llama-index-packs-mixture-of-agents) (2023.12.25)\n",
      "Requirement already satisfied: distro<2,>=1.7.0 in /Users/1littlecoder/Library/Python/3.9/lib/python/site-packages (from openai>=1.1.0->llama-index-core<0.11.0,>=0.10.1->llama-index-packs-mixture-of-agents) (1.9.0)\n",
      "Requirement already satisfied: charset-normalizer<4,>=2 in /Users/1littlecoder/Library/Python/3.9/lib/python/site-packages (from requests>=2.31.0->llama-index-core<0.11.0,>=0.10.1->llama-index-packs-mixture-of-agents) (3.3.2)\n",
      "Requirement already satisfied: urllib3<3,>=1.21.1 in /Users/1littlecoder/Library/Python/3.9/lib/python/site-packages (from requests>=2.31.0->llama-index-core<0.11.0,>=0.10.1->llama-index-packs-mixture-of-agents) (1.26.18)\n",
      "Requirement already satisfied: greenlet!=0.4.17 in /Users/1littlecoder/Library/Python/3.9/lib/python/site-packages (from SQLAlchemy[asyncio]>=1.4.49->llama-index-core<0.11.0,>=0.10.1->llama-index-packs-mixture-of-agents) (3.0.3)\n",
      "Requirement already satisfied: mypy-extensions>=0.3.0 in /Users/1littlecoder/Library/Python/3.9/lib/python/site-packages (from typing-inspect>=0.8.0->llama-index-core<0.11.0,>=0.10.1->llama-index-packs-mixture-of-agents) (1.0.0)\n",
      "Requirement already satisfied: marshmallow<4.0.0,>=3.18.0 in /Users/1littlecoder/Library/Python/3.9/lib/python/site-packages (from dataclasses-json->llama-index-core<0.11.0,>=0.10.1->llama-index-packs-mixture-of-agents) (3.20.2)\n",
      "Requirement already satisfied: python-dateutil>=2.8.2 in /Users/1littlecoder/Library/Python/3.9/lib/python/site-packages (from pandas->llama-index-core<0.11.0,>=0.10.1->llama-index-packs-mixture-of-agents) (2.8.2)\n",
      "Requirement already satisfied: pytz>=2020.1 in /Users/1littlecoder/Library/Python/3.9/lib/python/site-packages (from pandas->llama-index-core<0.11.0,>=0.10.1->llama-index-packs-mixture-of-agents) (2024.1)\n",
      "Requirement already satisfied: tzdata>=2022.1 in /Users/1littlecoder/Library/Python/3.9/lib/python/site-packages (from pandas->llama-index-core<0.11.0,>=0.10.1->llama-index-packs-mixture-of-agents) (2023.4)\n",
      "Requirement already satisfied: exceptiongroup>=1.0.2 in /Users/1littlecoder/Library/Python/3.9/lib/python/site-packages (from anyio->httpx->llama-index-core<0.11.0,>=0.10.1->llama-index-packs-mixture-of-agents) (1.2.0)\n",
      "Requirement already satisfied: packaging>=17.0 in /Users/1littlecoder/Library/Python/3.9/lib/python/site-packages (from marshmallow<4.0.0,>=3.18.0->dataclasses-json->llama-index-core<0.11.0,>=0.10.1->llama-index-packs-mixture-of-agents) (23.2)\n",
      "Requirement already satisfied: annotated-types>=0.4.0 in /Users/1littlecoder/Library/Python/3.9/lib/python/site-packages (from pydantic>=1.10->llama-cloud<0.0.7,>=0.0.6->llama-index-core<0.11.0,>=0.10.1->llama-index-packs-mixture-of-agents) (0.6.0)\n",
      "Requirement already satisfied: pydantic-core==2.16.3 in /Users/1littlecoder/Library/Python/3.9/lib/python/site-packages (from pydantic>=1.10->llama-cloud<0.0.7,>=0.0.6->llama-index-core<0.11.0,>=0.10.1->llama-index-packs-mixture-of-agents) (2.16.3)\n",
      "Requirement already satisfied: six>=1.5 in /Users/1littlecoder/Library/Python/3.9/lib/python/site-packages (from python-dateutil>=2.8.2->pandas->llama-index-core<0.11.0,>=0.10.1->llama-index-packs-mixture-of-agents) (1.16.0)\n",
      "Using cached llama_index_packs_mixture_of_agents-0.1.1-py3-none-any.whl (4.4 kB)\n",
      "Installing collected packages: llama-index-packs-mixture-of-agents\n",
      "Successfully installed llama-index-packs-mixture-of-agents-0.1.1\n",
      "\n",
      "\u001b[1m[\u001b[0m\u001b[34;49mnotice\u001b[0m\u001b[1;39;49m]\u001b[0m\u001b[39;49m A new release of pip is available: \u001b[0m\u001b[31;49m24.0\u001b[0m\u001b[39;49m -> \u001b[0m\u001b[32;49m24.1.1\u001b[0m\n",
      "\u001b[1m[\u001b[0m\u001b[34;49mnotice\u001b[0m\u001b[1;39;49m]\u001b[0m\u001b[39;49m To update, run: \u001b[0m\u001b[32;49m/Library/Developer/CommandLineTools/usr/bin/python3 -m pip install --upgrade pip\u001b[0m\n",
      "Note: you may need to restart the kernel to use updated packages.\n"
     ]
    }
   ],
   "source": [
    "%pip install llama-index-packs-mixture-of-agents\n"
   ]
  },
  {
   "cell_type": "code",
   "execution_count": 17,
   "metadata": {},
   "outputs": [],
   "source": [
    "from llama_index.packs.mixture_of_agents import MixtureOfAgentsPack"
   ]
  },
  {
   "cell_type": "code",
   "execution_count": 25,
   "metadata": {},
   "outputs": [],
   "source": [
    "# Necessary for async operations in Jupyter notebooks\n",
    "import nest_asyncio\n",
    "\n",
    "nest_asyncio.apply()\n",
    "\n",
    "from llama_index.llms.ollama import Ollama\n",
    "\n",
    "\n",
    "mixture_of_agents_pack = MixtureOfAgentsPack(\n",
    "    llm=Ollama(model=\"llama3\"),  # Aggregator\n",
    "    reference_llms=[\n",
    "        Ollama(model=\"deepseek-coder\", request_timeout=120.0),\n",
    "        Ollama(model=\"stablelm-zephyr\", request_timeout=120.0),\n",
    "    ],  # Proposers\n",
    "    num_layers=3,\n",
    "    temperature=0.1)"
   ]
  },
  {
   "cell_type": "code",
   "execution_count": 26,
   "metadata": {},
   "outputs": [
    {
     "name": "stdout",
     "output_type": "stream",
     "text": [
      "INFO:llama_index.packs.mixture_of_agents.base:Round 1/3 to collecting reference responses.\n",
      "Round 1/3 to collecting reference responses.\n",
      "INFO:httpx:HTTP Request: POST http://localhost:11434/api/chat \"HTTP/1.1 200 OK\"\n",
      "HTTP Request: POST http://localhost:11434/api/chat \"HTTP/1.1 200 OK\"\n",
      "INFO:httpx:HTTP Request: POST http://localhost:11434/api/chat \"HTTP/1.1 200 OK\"\n",
      "HTTP Request: POST http://localhost:11434/api/chat \"HTTP/1.1 200 OK\"\n",
      "INFO:llama_index.packs.mixture_of_agents.base:Round 2/3 to collecting reference responses.\n",
      "Round 2/3 to collecting reference responses.\n",
      "INFO:httpx:HTTP Request: POST http://localhost:11434/api/chat \"HTTP/1.1 200 OK\"\n",
      "HTTP Request: POST http://localhost:11434/api/chat \"HTTP/1.1 200 OK\"\n",
      "INFO:httpx:HTTP Request: POST http://localhost:11434/api/chat \"HTTP/1.1 200 OK\"\n",
      "HTTP Request: POST http://localhost:11434/api/chat \"HTTP/1.1 200 OK\"\n",
      "INFO:llama_index.packs.mixture_of_agents.base:Round 3/3 to collecting reference responses.\n",
      "Round 3/3 to collecting reference responses.\n",
      "INFO:httpx:HTTP Request: POST http://localhost:11434/api/chat \"HTTP/1.1 200 OK\"\n",
      "HTTP Request: POST http://localhost:11434/api/chat \"HTTP/1.1 200 OK\"\n",
      "INFO:httpx:HTTP Request: POST http://localhost:11434/api/chat \"HTTP/1.1 200 OK\"\n",
      "HTTP Request: POST http://localhost:11434/api/chat \"HTTP/1.1 200 OK\"\n",
      "INFO:httpx:HTTP Request: POST http://localhost:11434/api/chat \"HTTP/1.1 200 OK\"\n",
      "HTTP Request: POST http://localhost:11434/api/chat \"HTTP/1.1 200 OK\"\n",
      "assistant: Reducing anger in Python (or any programming language) involves a combination of strategies that focus on managing emotions, improving overall experience, and fostering a positive work environment. Here are some actionable steps you can take:\n",
      "\n",
      "**1. Practice mindfulness techniques**: Incorporate mindfulness practices into your daily routine to help you stay present and centered. This could include meditation, deep breathing exercises, or simply taking a few minutes each day to focus on the present moment.\n",
      "\n",
      "**2. Break tasks into smaller steps**: Instead of trying to tackle complex tasks all at once, break them down into smaller, more manageable chunks. This will reduce feelings of overwhelm and increase your chances of making progress step by step, making the task less daunting and reducing the risk of frustration.\n",
      "\n",
      "**3. Set realistic goals**: Be mindful of your own capabilities and set achievable goals for yourself. By setting realistic expectations, you can avoid the stress of trying to do too much at once and prevent frustration from building up.\n",
      "\n",
      "**4. Prioritize self-care**: Make sure to take breaks when needed, maintain a healthy diet, and engage in regular exercise routines. Getting enough sleep and practicing good sleep hygiene can also contribute to better overall health and increased emotional stability during work sessions.\n",
      "\n",
      "**5. Communicate effectively**: Be clear about your expectations, deadlines, and any potential issues that may arise with your colleagues, team members, or users. Encourage open communication and listen actively to others' concerns, which will create a more collaborative environment.\n",
      "\n",
      "**6. Cultivate empathy**: Try to understand where other people are coming from, even if you don't agree with their perspective. This can help reduce tension and foster better relationships among team members and users.\n",
      "\n",
      "**7. Seek support when needed**: If you're still struggling with anger or frustration, consider talking to a mentor, attending a coding meetup, or seeking help online. There are many resources available that can provide guidance and support to help you manage your emotions more effectively.\n",
      "\n",
      "**8. Practice positive self-talk**: Use positive affirmations and phrases to boost your confidence and remind yourself of your skills and accomplishments. This will help counteract negative thoughts that may contribute to anger or frustration.\n",
      "\n",
      "**9. Implement time management strategies**: Utilize tools like project management software, timers, or prioritization techniques to better manage your time and avoid feeling overwhelmed with tasks.\n",
      "\n",
      "**10. Reward yourself for progress**: Celebrate small achievements along the way by rewarding yourself with breaks or enjoyable activities. This will help maintain motivation and keep negative emotions from building up over time.\n",
      "\n",
      "Additionally, here are some specific Python-related strategies:\n",
      "\n",
      "* **Use Pythonic ways**: Rather than using traditional loops/conditions, use higher-order functions like `map()`, `filter()`, etc. for iterating through data structures (like lists or dictionaries). This can make your code more readable and easier to understand.\n",
      "* **Clear error messages**: While error messages can be helpful in debugging, they can also provide valuable information about the issue that has occurred. Consider using try-except blocks to catch and handle errors in a way that provides clear feedback.\n",
      "\n",
      "By following these actionable steps, you can reduce anger in Python and improve your overall experience while working with programming languages like Python.\n"
     ]
    }
   ],
   "source": [
    "response = mixture_of_agents_pack.run(\"How to reduce anger in Python?\")\n",
    "print(response)"
   ]
  },
  {
   "cell_type": "code",
   "execution_count": null,
   "metadata": {},
   "outputs": [],
   "source": []
  }
 ],
 "metadata": {
  "kernelspec": {
   "display_name": "Python 3",
   "language": "python",
   "name": "python3"
  },
  "language_info": {
   "codemirror_mode": {
    "name": "ipython",
    "version": 3
   },
   "file_extension": ".py",
   "mimetype": "text/x-python",
   "name": "python",
   "nbconvert_exporter": "python",
   "pygments_lexer": "ipython3",
   "version": "3.9.6"
  }
 },
 "nbformat": 4,
 "nbformat_minor": 2
}
